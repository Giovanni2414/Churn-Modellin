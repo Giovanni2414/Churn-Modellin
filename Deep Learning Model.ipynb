{
 "cells": [
  {
   "cell_type": "code",
   "execution_count": 1,
   "id": "59a889e1",
   "metadata": {},
   "outputs": [],
   "source": [
    "import pandas as pd\n",
    "import numpy as np\n",
    "import tensorflow as tf\n",
    "import matplotlib.pyplot as plt"
   ]
  },
  {
   "cell_type": "markdown",
   "id": "e0896f4e",
   "metadata": {},
   "source": [
    "### Loading the dataset"
   ]
  },
  {
   "cell_type": "code",
   "execution_count": 2,
   "id": "c88af544",
   "metadata": {},
   "outputs": [
    {
     "data": {
      "text/html": [
       "<div>\n",
       "<style scoped>\n",
       "    .dataframe tbody tr th:only-of-type {\n",
       "        vertical-align: middle;\n",
       "    }\n",
       "\n",
       "    .dataframe tbody tr th {\n",
       "        vertical-align: top;\n",
       "    }\n",
       "\n",
       "    .dataframe thead th {\n",
       "        text-align: right;\n",
       "    }\n",
       "</style>\n",
       "<table border=\"1\" class=\"dataframe\">\n",
       "  <thead>\n",
       "    <tr style=\"text-align: right;\">\n",
       "      <th></th>\n",
       "      <th>RowNumber</th>\n",
       "      <th>CustomerId</th>\n",
       "      <th>Surname</th>\n",
       "      <th>CreditScore</th>\n",
       "      <th>Geography</th>\n",
       "      <th>Gender</th>\n",
       "      <th>Age</th>\n",
       "      <th>Tenure</th>\n",
       "      <th>Balance</th>\n",
       "      <th>NumOfProducts</th>\n",
       "      <th>HasCrCard</th>\n",
       "      <th>IsActiveMember</th>\n",
       "      <th>EstimatedSalary</th>\n",
       "      <th>Exited</th>\n",
       "    </tr>\n",
       "  </thead>\n",
       "  <tbody>\n",
       "    <tr>\n",
       "      <th>0</th>\n",
       "      <td>1</td>\n",
       "      <td>15634602</td>\n",
       "      <td>Hargrave</td>\n",
       "      <td>619</td>\n",
       "      <td>France</td>\n",
       "      <td>Female</td>\n",
       "      <td>42</td>\n",
       "      <td>2</td>\n",
       "      <td>0.00</td>\n",
       "      <td>1</td>\n",
       "      <td>1</td>\n",
       "      <td>1</td>\n",
       "      <td>101348.88</td>\n",
       "      <td>1</td>\n",
       "    </tr>\n",
       "    <tr>\n",
       "      <th>1</th>\n",
       "      <td>2</td>\n",
       "      <td>15647311</td>\n",
       "      <td>Hill</td>\n",
       "      <td>608</td>\n",
       "      <td>Spain</td>\n",
       "      <td>Female</td>\n",
       "      <td>41</td>\n",
       "      <td>1</td>\n",
       "      <td>83807.86</td>\n",
       "      <td>1</td>\n",
       "      <td>0</td>\n",
       "      <td>1</td>\n",
       "      <td>112542.58</td>\n",
       "      <td>0</td>\n",
       "    </tr>\n",
       "    <tr>\n",
       "      <th>2</th>\n",
       "      <td>3</td>\n",
       "      <td>15619304</td>\n",
       "      <td>Onio</td>\n",
       "      <td>502</td>\n",
       "      <td>France</td>\n",
       "      <td>Female</td>\n",
       "      <td>42</td>\n",
       "      <td>8</td>\n",
       "      <td>159660.80</td>\n",
       "      <td>3</td>\n",
       "      <td>1</td>\n",
       "      <td>0</td>\n",
       "      <td>113931.57</td>\n",
       "      <td>1</td>\n",
       "    </tr>\n",
       "    <tr>\n",
       "      <th>3</th>\n",
       "      <td>4</td>\n",
       "      <td>15701354</td>\n",
       "      <td>Boni</td>\n",
       "      <td>699</td>\n",
       "      <td>France</td>\n",
       "      <td>Female</td>\n",
       "      <td>39</td>\n",
       "      <td>1</td>\n",
       "      <td>0.00</td>\n",
       "      <td>2</td>\n",
       "      <td>0</td>\n",
       "      <td>0</td>\n",
       "      <td>93826.63</td>\n",
       "      <td>0</td>\n",
       "    </tr>\n",
       "    <tr>\n",
       "      <th>4</th>\n",
       "      <td>5</td>\n",
       "      <td>15737888</td>\n",
       "      <td>Mitchell</td>\n",
       "      <td>850</td>\n",
       "      <td>Spain</td>\n",
       "      <td>Female</td>\n",
       "      <td>43</td>\n",
       "      <td>2</td>\n",
       "      <td>125510.82</td>\n",
       "      <td>1</td>\n",
       "      <td>1</td>\n",
       "      <td>1</td>\n",
       "      <td>79084.10</td>\n",
       "      <td>0</td>\n",
       "    </tr>\n",
       "  </tbody>\n",
       "</table>\n",
       "</div>"
      ],
      "text/plain": [
       "   RowNumber  CustomerId   Surname  CreditScore Geography  Gender  Age  \\\n",
       "0          1    15634602  Hargrave          619    France  Female   42   \n",
       "1          2    15647311      Hill          608     Spain  Female   41   \n",
       "2          3    15619304      Onio          502    France  Female   42   \n",
       "3          4    15701354      Boni          699    France  Female   39   \n",
       "4          5    15737888  Mitchell          850     Spain  Female   43   \n",
       "\n",
       "   Tenure    Balance  NumOfProducts  HasCrCard  IsActiveMember  \\\n",
       "0       2       0.00              1          1               1   \n",
       "1       1   83807.86              1          0               1   \n",
       "2       8  159660.80              3          1               0   \n",
       "3       1       0.00              2          0               0   \n",
       "4       2  125510.82              1          1               1   \n",
       "\n",
       "   EstimatedSalary  Exited  \n",
       "0        101348.88       1  \n",
       "1        112542.58       0  \n",
       "2        113931.57       1  \n",
       "3         93826.63       0  \n",
       "4         79084.10       0  "
      ]
     },
     "execution_count": 2,
     "metadata": {},
     "output_type": "execute_result"
    }
   ],
   "source": [
    "df_churn = pd.read_csv('Churn_Modelling.csv')\n",
    "df_churn.head()"
   ]
  },
  {
   "cell_type": "code",
   "execution_count": 3,
   "id": "ce9ef219",
   "metadata": {},
   "outputs": [
    {
     "data": {
      "text/plain": [
       "RowNumber          10000\n",
       "CustomerId         10000\n",
       "Surname             2932\n",
       "CreditScore          460\n",
       "Geography              3\n",
       "Gender                 2\n",
       "Age                   70\n",
       "Tenure                11\n",
       "Balance             6382\n",
       "NumOfProducts          4\n",
       "HasCrCard              2\n",
       "IsActiveMember         2\n",
       "EstimatedSalary     9999\n",
       "Exited                 2\n",
       "dtype: int64"
      ]
     },
     "execution_count": 3,
     "metadata": {},
     "output_type": "execute_result"
    }
   ],
   "source": [
    "df_churn.nunique()"
   ]
  },
  {
   "cell_type": "markdown",
   "id": "87305261",
   "metadata": {},
   "source": [
    "In this case, i'll drop the Surname column because it have 2932 unique qualitative variables"
   ]
  },
  {
   "cell_type": "code",
   "execution_count": 4,
   "id": "71dc4237",
   "metadata": {},
   "outputs": [
    {
     "data": {
      "text/html": [
       "<div>\n",
       "<style scoped>\n",
       "    .dataframe tbody tr th:only-of-type {\n",
       "        vertical-align: middle;\n",
       "    }\n",
       "\n",
       "    .dataframe tbody tr th {\n",
       "        vertical-align: top;\n",
       "    }\n",
       "\n",
       "    .dataframe thead th {\n",
       "        text-align: right;\n",
       "    }\n",
       "</style>\n",
       "<table border=\"1\" class=\"dataframe\">\n",
       "  <thead>\n",
       "    <tr style=\"text-align: right;\">\n",
       "      <th></th>\n",
       "      <th>CreditScore</th>\n",
       "      <th>Geography</th>\n",
       "      <th>Gender</th>\n",
       "      <th>Age</th>\n",
       "      <th>Tenure</th>\n",
       "      <th>Balance</th>\n",
       "      <th>NumOfProducts</th>\n",
       "      <th>HasCrCard</th>\n",
       "      <th>IsActiveMember</th>\n",
       "      <th>EstimatedSalary</th>\n",
       "      <th>Exited</th>\n",
       "    </tr>\n",
       "  </thead>\n",
       "  <tbody>\n",
       "    <tr>\n",
       "      <th>0</th>\n",
       "      <td>619</td>\n",
       "      <td>France</td>\n",
       "      <td>Female</td>\n",
       "      <td>42</td>\n",
       "      <td>2</td>\n",
       "      <td>0.00</td>\n",
       "      <td>1</td>\n",
       "      <td>1</td>\n",
       "      <td>1</td>\n",
       "      <td>101348.88</td>\n",
       "      <td>1</td>\n",
       "    </tr>\n",
       "    <tr>\n",
       "      <th>1</th>\n",
       "      <td>608</td>\n",
       "      <td>Spain</td>\n",
       "      <td>Female</td>\n",
       "      <td>41</td>\n",
       "      <td>1</td>\n",
       "      <td>83807.86</td>\n",
       "      <td>1</td>\n",
       "      <td>0</td>\n",
       "      <td>1</td>\n",
       "      <td>112542.58</td>\n",
       "      <td>0</td>\n",
       "    </tr>\n",
       "    <tr>\n",
       "      <th>2</th>\n",
       "      <td>502</td>\n",
       "      <td>France</td>\n",
       "      <td>Female</td>\n",
       "      <td>42</td>\n",
       "      <td>8</td>\n",
       "      <td>159660.80</td>\n",
       "      <td>3</td>\n",
       "      <td>1</td>\n",
       "      <td>0</td>\n",
       "      <td>113931.57</td>\n",
       "      <td>1</td>\n",
       "    </tr>\n",
       "    <tr>\n",
       "      <th>3</th>\n",
       "      <td>699</td>\n",
       "      <td>France</td>\n",
       "      <td>Female</td>\n",
       "      <td>39</td>\n",
       "      <td>1</td>\n",
       "      <td>0.00</td>\n",
       "      <td>2</td>\n",
       "      <td>0</td>\n",
       "      <td>0</td>\n",
       "      <td>93826.63</td>\n",
       "      <td>0</td>\n",
       "    </tr>\n",
       "    <tr>\n",
       "      <th>4</th>\n",
       "      <td>850</td>\n",
       "      <td>Spain</td>\n",
       "      <td>Female</td>\n",
       "      <td>43</td>\n",
       "      <td>2</td>\n",
       "      <td>125510.82</td>\n",
       "      <td>1</td>\n",
       "      <td>1</td>\n",
       "      <td>1</td>\n",
       "      <td>79084.10</td>\n",
       "      <td>0</td>\n",
       "    </tr>\n",
       "  </tbody>\n",
       "</table>\n",
       "</div>"
      ],
      "text/plain": [
       "   CreditScore Geography  Gender  Age  Tenure    Balance  NumOfProducts  \\\n",
       "0          619    France  Female   42       2       0.00              1   \n",
       "1          608     Spain  Female   41       1   83807.86              1   \n",
       "2          502    France  Female   42       8  159660.80              3   \n",
       "3          699    France  Female   39       1       0.00              2   \n",
       "4          850     Spain  Female   43       2  125510.82              1   \n",
       "\n",
       "   HasCrCard  IsActiveMember  EstimatedSalary  Exited  \n",
       "0          1               1        101348.88       1  \n",
       "1          0               1        112542.58       0  \n",
       "2          1               0        113931.57       1  \n",
       "3          0               0         93826.63       0  \n",
       "4          1               1         79084.10       0  "
      ]
     },
     "execution_count": 4,
     "metadata": {},
     "output_type": "execute_result"
    }
   ],
   "source": [
    "df_churn.drop('Surname', axis=1, inplace=True)\n",
    "df_churn.drop('RowNumber', axis=1, inplace=True)\n",
    "df_churn.drop('CustomerId', axis=1, inplace=True)\n",
    "df_churn.head()"
   ]
  },
  {
   "cell_type": "code",
   "execution_count": 5,
   "id": "66d577fd",
   "metadata": {},
   "outputs": [
    {
     "name": "stdout",
     "output_type": "stream",
     "text": [
      "['France' 'Spain' 'Germany']\n"
     ]
    }
   ],
   "source": [
    "print(pd.unique(df_churn['Geography']))"
   ]
  },
  {
   "cell_type": "code",
   "execution_count": 6,
   "id": "1a5f19a0",
   "metadata": {},
   "outputs": [
    {
     "name": "stdout",
     "output_type": "stream",
     "text": [
      "[1 2 3]\n",
      "   CreditScore Geography Gender  Age  Tenure    Balance  NumOfProducts  \\\n",
      "0          619         1      1   42       2       0.00              1   \n",
      "1          608         2      1   41       1   83807.86              1   \n",
      "2          502         1      1   42       8  159660.80              3   \n",
      "3          699         1      1   39       1       0.00              2   \n",
      "4          850         2      1   43       2  125510.82              1   \n",
      "\n",
      "   HasCrCard  IsActiveMember  EstimatedSalary  Exited  \n",
      "0          1               1        101348.88       1  \n",
      "1          0               1        112542.58       0  \n",
      "2          1               0        113931.57       1  \n",
      "3          0               0         93826.63       0  \n",
      "4          1               1         79084.10       0  \n"
     ]
    }
   ],
   "source": [
    "# Change qualitative variables\n",
    "df_churn.loc[df_churn.Geography == \"France\", \"Geography\"] = 1\n",
    "df_churn.loc[df_churn.Geography == \"Spain\", \"Geography\"] = 2\n",
    "df_churn.loc[df_churn.Geography == \"Germany\", \"Geography\"] = 3\n",
    "\n",
    "df_churn.loc[df_churn.Gender == \"Female\", \"Gender\"] = 1\n",
    "df_churn.loc[df_churn.Gender == \"Male\", \"Gender\"] = 2\n",
    "print(pd.unique(df_churn['Geography']))\n",
    "print(df_churn.head())"
   ]
  },
  {
   "cell_type": "code",
   "execution_count": 7,
   "id": "d4eb786c",
   "metadata": {},
   "outputs": [
    {
     "name": "stdout",
     "output_type": "stream",
     "text": [
      "(10000,)\n",
      "(10000, 10)\n"
     ]
    }
   ],
   "source": [
    "Y = df_churn['Exited'].values\n",
    "df_churn.drop('Exited', axis=1, inplace=True)\n",
    "X = df_churn.values\n",
    "print(Y.shape)\n",
    "print(X.shape)"
   ]
  },
  {
   "cell_type": "code",
   "execution_count": 8,
   "id": "b3552f53",
   "metadata": {},
   "outputs": [
    {
     "name": "stdout",
     "output_type": "stream",
     "text": [
      "[0.7282352941176471 0.7152941176470589 0.5905882352941176 ...\n",
      " 0.8341176470588235 0.908235294117647 0.9317647058823529]\n",
      "[0.45652173913043476 0.44565217391304346 0.45652173913043476 ...\n",
      " 0.391304347826087 0.45652173913043476 0.30434782608695654]\n",
      "[0.0 0.33403147867725896 0.6363571759354565 ... 0.0 0.2992263113680937\n",
      " 0.5187077749376251]\n",
      "[0.5067634543058819 0.5627340588006109 0.5696792699405497 ...\n",
      " 0.21043581238654574 0.46446006369839504 0.19096108013661311]\n"
     ]
    }
   ],
   "source": [
    "indexes = [0, 3, 5, 9]\n",
    "for i in indexes:\n",
    "    X[:,i] = X[:,i] / max(X[:,i])\n",
    "    print(X[:,i])\n",
    "X = X.astype(np.float32)"
   ]
  },
  {
   "cell_type": "code",
   "execution_count": 9,
   "id": "a3025e11",
   "metadata": {},
   "outputs": [],
   "source": [
    "from sklearn import model_selection\n",
    "X_train, X_test, y_train, y_test = model_selection.train_test_split(X, Y, test_size=0.05)"
   ]
  },
  {
   "cell_type": "code",
   "execution_count": 10,
   "id": "fa1231c6",
   "metadata": {},
   "outputs": [
    {
     "name": "stdout",
     "output_type": "stream",
     "text": [
      "(9500, 10)\n",
      "(9500,)\n",
      "(500, 10)\n",
      "(500,)\n"
     ]
    }
   ],
   "source": [
    "print(X_train.shape)\n",
    "print(y_train.shape)\n",
    "print(X_test.shape)\n",
    "print(y_test.shape)"
   ]
  },
  {
   "cell_type": "markdown",
   "id": "73fd2070",
   "metadata": {},
   "source": [
    "### Creating deep learning model"
   ]
  },
  {
   "cell_type": "code",
   "execution_count": 11,
   "id": "fe3c3ce6",
   "metadata": {},
   "outputs": [],
   "source": [
    "def classifier_model():\n",
    "    model = tf.keras.Sequential([\n",
    "        tf.keras.layers.Dense(10, activation='relu', input_shape=(1,10)),\n",
    "        tf.keras.layers.Dense(5, activation='relu', input_shape=(1,10)),\n",
    "        tf.keras.layers.Dense(1, activation='sigmoid', input_shape=(1,5)),\n",
    "    ])\n",
    "\n",
    "    return model"
   ]
  },
  {
   "cell_type": "code",
   "execution_count": 88,
   "id": "500ec9ab",
   "metadata": {},
   "outputs": [],
   "source": [
    "classifierModel = classifier_model()\n",
    "opt = tf.keras.optimizers.Adam(\n",
    "    learning_rate=0.0005,\n",
    "    beta_1=0.85,\n",
    "    beta_2=0.999,\n",
    "    epsilon=1e-07,\n",
    "    amsgrad=False)\n",
    "classifierModel.compile(optimizer=opt,\n",
    "                        loss='binary_crossentropy',\n",
    "                        metrics=['accuracy']\n",
    "                    )\n",
    "classifierModel.build()"
   ]
  },
  {
   "cell_type": "code",
   "execution_count": 89,
   "id": "8923cd21",
   "metadata": {},
   "outputs": [
    {
     "name": "stdout",
     "output_type": "stream",
     "text": [
      "Model: \"sequential_8\"\n",
      "_________________________________________________________________\n",
      "Layer (type)                 Output Shape              Param #   \n",
      "=================================================================\n",
      "dense_24 (Dense)             (None, 1, 10)             110       \n",
      "_________________________________________________________________\n",
      "dense_25 (Dense)             (None, 1, 5)              55        \n",
      "_________________________________________________________________\n",
      "dense_26 (Dense)             (None, 1, 1)              6         \n",
      "=================================================================\n",
      "Total params: 171\n",
      "Trainable params: 171\n",
      "Non-trainable params: 0\n",
      "_________________________________________________________________\n"
     ]
    }
   ],
   "source": [
    "classifierModel.summary()"
   ]
  },
  {
   "cell_type": "code",
   "execution_count": 90,
   "id": "ac6acc2a",
   "metadata": {},
   "outputs": [
    {
     "name": "stdout",
     "output_type": "stream",
     "text": [
      "Epoch 1/100\n",
      "WARNING:tensorflow:Model was constructed with shape (None, 1, 10) for input KerasTensor(type_spec=TensorSpec(shape=(None, 1, 10), dtype=tf.float32, name='dense_24_input'), name='dense_24_input', description=\"created by layer 'dense_24_input'\"), but it was called on an input with incompatible shape (None, 10).\n",
      "WARNING:tensorflow:Model was constructed with shape (None, 1, 10) for input KerasTensor(type_spec=TensorSpec(shape=(None, 1, 10), dtype=tf.float32, name='dense_24_input'), name='dense_24_input', description=\"created by layer 'dense_24_input'\"), but it was called on an input with incompatible shape (None, 10).\n",
      "297/297 [==============================] - 1s 2ms/step - loss: 0.7479 - accuracy: 0.5663\n",
      "Epoch 2/100\n",
      "297/297 [==============================] - 1s 2ms/step - loss: 0.4983 - accuracy: 0.7960\n",
      "Epoch 3/100\n",
      "297/297 [==============================] - 1s 2ms/step - loss: 0.4823 - accuracy: 0.7960\n",
      "Epoch 4/100\n",
      "297/297 [==============================] - 0s 2ms/step - loss: 0.4762 - accuracy: 0.7957\n",
      "Epoch 5/100\n",
      "297/297 [==============================] - 0s 2ms/step - loss: 0.4724 - accuracy: 0.7955\n",
      "Epoch 6/100\n",
      "297/297 [==============================] - 0s 2ms/step - loss: 0.4692 - accuracy: 0.7968\n",
      "Epoch 7/100\n",
      "297/297 [==============================] - 0s 2ms/step - loss: 0.4655 - accuracy: 0.7962\n",
      "Epoch 8/100\n",
      "297/297 [==============================] - 0s 2ms/step - loss: 0.4616 - accuracy: 0.7983\n",
      "Epoch 9/100\n",
      "297/297 [==============================] - 0s 2ms/step - loss: 0.4567 - accuracy: 0.8000\n",
      "Epoch 10/100\n",
      "297/297 [==============================] - 0s 2ms/step - loss: 0.4510 - accuracy: 0.8018\n",
      "Epoch 11/100\n",
      "297/297 [==============================] - 0s 2ms/step - loss: 0.4449 - accuracy: 0.8060\n",
      "Epoch 12/100\n",
      "297/297 [==============================] - 0s 2ms/step - loss: 0.4387 - accuracy: 0.8076\n",
      "Epoch 13/100\n",
      "297/297 [==============================] - 0s 2ms/step - loss: 0.4330 - accuracy: 0.8122\n",
      "Epoch 14/100\n",
      "297/297 [==============================] - 0s 2ms/step - loss: 0.4271 - accuracy: 0.8140\n",
      "Epoch 15/100\n",
      "297/297 [==============================] - 0s 2ms/step - loss: 0.4212 - accuracy: 0.8175\n",
      "Epoch 16/100\n",
      "297/297 [==============================] - 0s 2ms/step - loss: 0.4154 - accuracy: 0.8218\n",
      "Epoch 17/100\n",
      "297/297 [==============================] - 0s 2ms/step - loss: 0.4107 - accuracy: 0.8221\n",
      "Epoch 18/100\n",
      "297/297 [==============================] - 0s 2ms/step - loss: 0.4059 - accuracy: 0.8233\n",
      "Epoch 19/100\n",
      "297/297 [==============================] - 0s 2ms/step - loss: 0.4012 - accuracy: 0.8245\n",
      "Epoch 20/100\n",
      "297/297 [==============================] - 0s 2ms/step - loss: 0.3969 - accuracy: 0.8262\n",
      "Epoch 21/100\n",
      "297/297 [==============================] - 0s 2ms/step - loss: 0.3933 - accuracy: 0.8275\n",
      "Epoch 22/100\n",
      "297/297 [==============================] - 0s 2ms/step - loss: 0.3900 - accuracy: 0.8289\n",
      "Epoch 23/100\n",
      "297/297 [==============================] - 0s 2ms/step - loss: 0.3871 - accuracy: 0.8303\n",
      "Epoch 24/100\n",
      "297/297 [==============================] - 1s 2ms/step - loss: 0.3844 - accuracy: 0.8325\n",
      "Epoch 25/100\n",
      "297/297 [==============================] - ETA: 0s - loss: 0.3820 - accuracy: 0.83 - 0s 2ms/step - loss: 0.3825 - accuracy: 0.8343\n",
      "Epoch 26/100\n",
      "297/297 [==============================] - 0s 2ms/step - loss: 0.3804 - accuracy: 0.8363\n",
      "Epoch 27/100\n",
      "297/297 [==============================] - 0s 2ms/step - loss: 0.3796 - accuracy: 0.8351\n",
      "Epoch 28/100\n",
      "297/297 [==============================] - 1s 2ms/step - loss: 0.3776 - accuracy: 0.8378\n",
      "Epoch 29/100\n",
      "297/297 [==============================] - 0s 2ms/step - loss: 0.3776 - accuracy: 0.8345\n",
      "Epoch 30/100\n",
      "297/297 [==============================] - 0s 2ms/step - loss: 0.3756 - accuracy: 0.8366\n",
      "Epoch 31/100\n",
      "297/297 [==============================] - 0s 2ms/step - loss: 0.3750 - accuracy: 0.8355\n",
      "Epoch 32/100\n",
      "297/297 [==============================] - 0s 2ms/step - loss: 0.3738 - accuracy: 0.8382\n",
      "Epoch 33/100\n",
      "297/297 [==============================] - 0s 2ms/step - loss: 0.3738 - accuracy: 0.8378\n",
      "Epoch 34/100\n",
      "297/297 [==============================] - 0s 2ms/step - loss: 0.3741 - accuracy: 0.8398\n",
      "Epoch 35/100\n",
      "297/297 [==============================] - 0s 2ms/step - loss: 0.3728 - accuracy: 0.8395\n",
      "Epoch 36/100\n",
      "297/297 [==============================] - 0s 2ms/step - loss: 0.3726 - accuracy: 0.8401\n",
      "Epoch 37/100\n",
      "297/297 [==============================] - 0s 2ms/step - loss: 0.3723 - accuracy: 0.8408\n",
      "Epoch 38/100\n",
      "297/297 [==============================] - 0s 2ms/step - loss: 0.3721 - accuracy: 0.8391\n",
      "Epoch 39/100\n",
      "297/297 [==============================] - 0s 2ms/step - loss: 0.3713 - accuracy: 0.8399\n",
      "Epoch 40/100\n",
      "297/297 [==============================] - 0s 2ms/step - loss: 0.3714 - accuracy: 0.8400\n",
      "Epoch 41/100\n",
      "297/297 [==============================] - 0s 2ms/step - loss: 0.3710 - accuracy: 0.8400\n",
      "Epoch 42/100\n",
      "297/297 [==============================] - 0s 2ms/step - loss: 0.3713 - accuracy: 0.8411\n",
      "Epoch 43/100\n",
      "297/297 [==============================] - 0s 2ms/step - loss: 0.3707 - accuracy: 0.8409\n",
      "Epoch 44/100\n",
      "297/297 [==============================] - 0s 2ms/step - loss: 0.3708 - accuracy: 0.8393\n",
      "Epoch 45/100\n",
      "297/297 [==============================] - 0s 2ms/step - loss: 0.3705 - accuracy: 0.8394\n",
      "Epoch 46/100\n",
      "297/297 [==============================] - 1s 2ms/step - loss: 0.3704 - accuracy: 0.8417\n",
      "Epoch 47/100\n",
      "297/297 [==============================] - 1s 2ms/step - loss: 0.3705 - accuracy: 0.8415\n",
      "Epoch 48/100\n",
      "297/297 [==============================] - 1s 2ms/step - loss: 0.3700 - accuracy: 0.8408\n",
      "Epoch 49/100\n",
      "297/297 [==============================] - 1s 2ms/step - loss: 0.3699 - accuracy: 0.8411\n",
      "Epoch 50/100\n",
      "297/297 [==============================] - 1s 2ms/step - loss: 0.3697 - accuracy: 0.8405\n",
      "Epoch 51/100\n",
      "297/297 [==============================] - 1s 2ms/step - loss: 0.3697 - accuracy: 0.8408\n",
      "Epoch 52/100\n",
      "297/297 [==============================] - 1s 2ms/step - loss: 0.3693 - accuracy: 0.8425\n",
      "Epoch 53/100\n",
      "297/297 [==============================] - 1s 2ms/step - loss: 0.3695 - accuracy: 0.8405\n",
      "Epoch 54/100\n",
      "297/297 [==============================] - 1s 2ms/step - loss: 0.3691 - accuracy: 0.8422\n",
      "Epoch 55/100\n",
      "297/297 [==============================] - 1s 2ms/step - loss: 0.3698 - accuracy: 0.8412\n",
      "Epoch 56/100\n",
      "297/297 [==============================] - 1s 2ms/step - loss: 0.3694 - accuracy: 0.8426\n",
      "Epoch 57/100\n",
      "297/297 [==============================] - 0s 2ms/step - loss: 0.3690 - accuracy: 0.8407\n",
      "Epoch 58/100\n",
      "297/297 [==============================] - 0s 2ms/step - loss: 0.3692 - accuracy: 0.8409\n",
      "Epoch 59/100\n",
      "297/297 [==============================] - 1s 2ms/step - loss: 0.3684 - accuracy: 0.8419\n",
      "Epoch 60/100\n",
      "297/297 [==============================] - 1s 2ms/step - loss: 0.3685 - accuracy: 0.8427\n",
      "Epoch 61/100\n",
      "297/297 [==============================] - 1s 2ms/step - loss: 0.3689 - accuracy: 0.8406\n",
      "Epoch 62/100\n",
      "297/297 [==============================] - 1s 2ms/step - loss: 0.3684 - accuracy: 0.8424\n",
      "Epoch 63/100\n",
      "297/297 [==============================] - 1s 2ms/step - loss: 0.3684 - accuracy: 0.8434\n",
      "Epoch 64/100\n",
      "297/297 [==============================] - 1s 2ms/step - loss: 0.3683 - accuracy: 0.8431\n",
      "Epoch 65/100\n",
      "297/297 [==============================] - 1s 2ms/step - loss: 0.3684 - accuracy: 0.8416\n",
      "Epoch 66/100\n",
      "297/297 [==============================] - 1s 2ms/step - loss: 0.3681 - accuracy: 0.8431\n",
      "Epoch 67/100\n",
      "297/297 [==============================] - 1s 2ms/step - loss: 0.3679 - accuracy: 0.8415\n",
      "Epoch 68/100\n",
      "297/297 [==============================] - 1s 2ms/step - loss: 0.3678 - accuracy: 0.8426\n",
      "Epoch 69/100\n",
      "297/297 [==============================] - 1s 2ms/step - loss: 0.3681 - accuracy: 0.8408\n",
      "Epoch 70/100\n",
      "297/297 [==============================] - 1s 2ms/step - loss: 0.3684 - accuracy: 0.8429\n",
      "Epoch 71/100\n",
      "297/297 [==============================] - 1s 2ms/step - loss: 0.3681 - accuracy: 0.8406\n",
      "Epoch 72/100\n",
      "297/297 [==============================] - 1s 2ms/step - loss: 0.3685 - accuracy: 0.8419\n",
      "Epoch 73/100\n",
      "297/297 [==============================] - 1s 2ms/step - loss: 0.3673 - accuracy: 0.8404\n",
      "Epoch 74/100\n"
     ]
    },
    {
     "name": "stdout",
     "output_type": "stream",
     "text": [
      "297/297 [==============================] - 1s 2ms/step - loss: 0.3678 - accuracy: 0.8433\n",
      "Epoch 75/100\n",
      "297/297 [==============================] - 1s 2ms/step - loss: 0.3678 - accuracy: 0.8423\n",
      "Epoch 76/100\n",
      "297/297 [==============================] - 1s 2ms/step - loss: 0.3676 - accuracy: 0.8436\n",
      "Epoch 77/100\n",
      "297/297 [==============================] - 1s 2ms/step - loss: 0.3676 - accuracy: 0.8414\n",
      "Epoch 78/100\n",
      "297/297 [==============================] - 1s 2ms/step - loss: 0.3671 - accuracy: 0.8443\n",
      "Epoch 79/100\n",
      "297/297 [==============================] - 1s 2ms/step - loss: 0.3677 - accuracy: 0.8432\n",
      "Epoch 80/100\n",
      "297/297 [==============================] - 1s 2ms/step - loss: 0.3675 - accuracy: 0.8407\n",
      "Epoch 81/100\n",
      "297/297 [==============================] - 1s 2ms/step - loss: 0.3676 - accuracy: 0.8433\n",
      "Epoch 82/100\n",
      "297/297 [==============================] - 1s 2ms/step - loss: 0.3672 - accuracy: 0.8431\n",
      "Epoch 83/100\n",
      "297/297 [==============================] - 1s 2ms/step - loss: 0.3672 - accuracy: 0.8399\n",
      "Epoch 84/100\n",
      "297/297 [==============================] - 1s 2ms/step - loss: 0.3667 - accuracy: 0.8428\n",
      "Epoch 85/100\n",
      "297/297 [==============================] - 1s 2ms/step - loss: 0.3671 - accuracy: 0.8421\n",
      "Epoch 86/100\n",
      "297/297 [==============================] - 1s 2ms/step - loss: 0.3667 - accuracy: 0.8419\n",
      "Epoch 87/100\n",
      "297/297 [==============================] - 1s 2ms/step - loss: 0.3671 - accuracy: 0.8426\n",
      "Epoch 88/100\n",
      "297/297 [==============================] - 1s 2ms/step - loss: 0.3668 - accuracy: 0.8425\n",
      "Epoch 89/100\n",
      "297/297 [==============================] - 1s 2ms/step - loss: 0.3670 - accuracy: 0.8432\n",
      "Epoch 90/100\n",
      "297/297 [==============================] - 1s 2ms/step - loss: 0.3672 - accuracy: 0.8426\n",
      "Epoch 91/100\n",
      "297/297 [==============================] - 1s 2ms/step - loss: 0.3669 - accuracy: 0.8433\n",
      "Epoch 92/100\n",
      "297/297 [==============================] - 1s 2ms/step - loss: 0.3659 - accuracy: 0.8436\n",
      "Epoch 93/100\n",
      "297/297 [==============================] - 1s 2ms/step - loss: 0.3664 - accuracy: 0.8426\n",
      "Epoch 94/100\n",
      "297/297 [==============================] - 1s 2ms/step - loss: 0.3660 - accuracy: 0.8432\n",
      "Epoch 95/100\n",
      "297/297 [==============================] - 1s 2ms/step - loss: 0.3662 - accuracy: 0.8438\n",
      "Epoch 96/100\n",
      "297/297 [==============================] - 0s 2ms/step - loss: 0.3657 - accuracy: 0.8437\n",
      "Epoch 97/100\n",
      "297/297 [==============================] - 1s 2ms/step - loss: 0.3658 - accuracy: 0.8454\n",
      "Epoch 98/100\n",
      "297/297 [==============================] - 1s 2ms/step - loss: 0.3660 - accuracy: 0.8435\n",
      "Epoch 99/100\n",
      "297/297 [==============================] - 1s 2ms/step - loss: 0.3656 - accuracy: 0.8439\n",
      "Epoch 100/100\n",
      "297/297 [==============================] - 1s 2ms/step - loss: 0.3655 - accuracy: 0.8444\n"
     ]
    }
   ],
   "source": [
    "history = classifierModel.fit(x=X_train, y=y_train, epochs=100, shuffle=True)"
   ]
  },
  {
   "cell_type": "code",
   "execution_count": 91,
   "id": "6122071b",
   "metadata": {},
   "outputs": [
    {
     "name": "stderr",
     "output_type": "stream",
     "text": [
      "C:\\Users\\Giova\\AppData\\Local\\Programs\\Python\\Python39\\lib\\site-packages\\pandas\\core\\frame.py:5034: SettingWithCopyWarning: \n",
      "A value is trying to be set on a copy of a slice from a DataFrame\n",
      "\n",
      "See the caveats in the documentation: https://pandas.pydata.org/pandas-docs/stable/user_guide/indexing.html#returning-a-view-versus-a-copy\n",
      "  return super().rename(\n"
     ]
    },
    {
     "data": {
      "text/plain": [
       "[Text(0.5, 0, 'Epoch'), Text(0, 0.5, 'Accuracy')]"
      ]
     },
     "execution_count": 91,
     "metadata": {},
     "output_type": "execute_result"
    },
    {
     "data": {
      "image/png": "[encoded data removed]",
      "text/plain": [
       "<Figure size 864x576 with 1 Axes>"
      ]
     },
     "metadata": {
      "needs_background": "light"
     },
     "output_type": "display_data"
    },
    {
     "data": {
      "image/png": "[encoded data removed]",
      "text/plain": [
       "<Figure size 864x576 with 1 Axes>"
      ]
     },
     "metadata": {
      "needs_background": "light"
     },
     "output_type": "display_data"
    }
   ],
   "source": [
    "df_loss_acc = pd.DataFrame(history.history)\n",
    "df_loss= df_loss_acc[['loss']]\n",
    "df_loss.rename(columns={'loss':'train'},inplace=True)\n",
    "df_acc= df_loss_acc[['accuracy']]\n",
    "df_acc.rename(columns={'accuracy':'train'},inplace=True)\n",
    "df_loss.plot(title='Model loss',figsize=(12,8)).set(xlabel='Epoch',ylabel='Loss')\n",
    "df_acc.plot(title='Model Accuracy',figsize=(12,8)).set(xlabel='Epoch',ylabel='Accuracy')"
   ]
  },
  {
   "cell_type": "code",
   "execution_count": 93,
   "id": "c9fab001",
   "metadata": {},
   "outputs": [
    {
     "name": "stdout",
     "output_type": "stream",
     "text": [
      "16/16 [==============================] - 0s 2ms/step - loss: 0.3909 - accuracy: 0.8420\n"
     ]
    }
   ],
   "source": [
    "eval_ = classifierModel.evaluate(x=X_test, y=y_test)"
   ]
  },
  {
   "cell_type": "markdown",
   "id": "1f85b59a",
   "metadata": {},
   "source": [
    "After a hyperparameters tunning in a period of two days, the model presents a limit of accuracy aproximately of 84% - 86%, this is one of my best tries, a model with the %84"
   ]
  },
  {
   "cell_type": "code",
   "execution_count": 77,
   "id": "9d741292",
   "metadata": {},
   "outputs": [
    {
     "name": "stdout",
     "output_type": "stream",
     "text": [
      "Real label: [0 0 1 0 0 0 0 1 0 1]\n",
      "Predicted label: [[0.]\n",
      " [0.]\n",
      " [1.]\n",
      " [0.]\n",
      " [0.]\n",
      " [0.]\n",
      " [0.]\n",
      " [1.]\n",
      " [0.]\n",
      " [0.]]\n"
     ]
    }
   ],
   "source": [
    "index_predict = list(range(90,100))\n",
    "\n",
    "y_hat = classifierModel.predict(X_test)\n",
    "\n",
    "print(\"Real label: \" + str(y_test[index_predict]))\n",
    "print(\"Predicted label: \" + str(np.around(y_hat[index_predict])))"
   ]
  },
  {
   "cell_type": "code",
   "execution_count": null,
   "id": "29102368",
   "metadata": {},
   "outputs": [],
   "source": []
  }
 ],
 "metadata": {
  "kernelspec": {
   "display_name": "Python 3",
   "language": "python",
   "name": "python3"
  },
  "language_info": {
   "codemirror_mode": {
    "name": "ipython",
    "version": 3
   },
   "file_extension": ".py",
   "mimetype": "text/x-python",
   "name": "python",
   "nbconvert_exporter": "python",
   "pygments_lexer": "ipython3",
   "version": "3.9.7"
  }
 },
 "nbformat": 4,
 "nbformat_minor": 5
}
